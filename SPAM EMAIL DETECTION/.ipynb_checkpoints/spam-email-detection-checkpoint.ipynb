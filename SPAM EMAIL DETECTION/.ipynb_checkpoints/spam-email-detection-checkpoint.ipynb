{
 "cells": [
  {
   "cell_type": "markdown",
   "id": "166a2386",
   "metadata": {
    "papermill": {
     "duration": 0.007165,
     "end_time": "2024-04-27T12:21:40.654534",
     "exception": false,
     "start_time": "2024-04-27T12:21:40.647369",
     "status": "completed"
    },
    "tags": []
   },
   "source": [
    "# Spam Email Detection using Count Vectorizer and Multinomial Naive Bayes Classifier"
   ]
  },
  {
   "cell_type": "code",
   "execution_count": 1,
   "id": "ae0d976d",
   "metadata": {
    "_cell_guid": "b1076dfc-b9ad-4769-8c92-a6c4dae69d19",
    "_uuid": "8f2839f25d086af736a60e9eeb907d3b93b6e0e5",
    "execution": {
     "iopub.execute_input": "2024-04-27T12:21:40.670849Z",
     "iopub.status.busy": "2024-04-27T12:21:40.669082Z",
     "iopub.status.idle": "2024-04-27T12:21:43.366402Z",
     "shell.execute_reply": "2024-04-27T12:21:43.365040Z"
    },
    "papermill": {
     "duration": 2.708485,
     "end_time": "2024-04-27T12:21:43.369631",
     "exception": false,
     "start_time": "2024-04-27T12:21:40.661146",
     "status": "completed"
    },
    "tags": []
   },
   "outputs": [],
   "source": [
    "import numpy as np\n",
    "import pandas as pd\n",
    "from sklearn.preprocessing import LabelEncoder\n",
    "from sklearn.model_selection import train_test_split\n",
    "from sklearn.pipeline import Pipeline\n",
    "from sklearn.feature_extraction.text import CountVectorizer\n",
    "from sklearn.naive_bayes import MultinomialNB\n",
    "from sklearn.metrics import classification_report\n",
    "from sklearn.metrics import accuracy_score, precision_score\n",
    "from sklearn.metrics import confusion_matrix, ConfusionMatrixDisplay\n",
    "import matplotlib.pyplot as plt"
   ]
  },
  {
   "cell_type": "code",
   "execution_count": 2,
   "id": "0a09f69e",
   "metadata": {
    "execution": {
     "iopub.execute_input": "2024-04-27T12:21:43.387055Z",
     "iopub.status.busy": "2024-04-27T12:21:43.385701Z",
     "iopub.status.idle": "2024-04-27T12:21:43.447436Z",
     "shell.execute_reply": "2024-04-27T12:21:43.446125Z"
    },
    "papermill": {
     "duration": 0.07265,
     "end_time": "2024-04-27T12:21:43.450407",
     "exception": false,
     "start_time": "2024-04-27T12:21:43.377757",
     "status": "completed"
    },
    "tags": []
   },
   "outputs": [
    {
     "data": {
      "text/html": [
       "<div>\n",
       "<style scoped>\n",
       "    .dataframe tbody tr th:only-of-type {\n",
       "        vertical-align: middle;\n",
       "    }\n",
       "\n",
       "    .dataframe tbody tr th {\n",
       "        vertical-align: top;\n",
       "    }\n",
       "\n",
       "    .dataframe thead th {\n",
       "        text-align: right;\n",
       "    }\n",
       "</style>\n",
       "<table border=\"1\" class=\"dataframe\">\n",
       "  <thead>\n",
       "    <tr style=\"text-align: right;\">\n",
       "      <th></th>\n",
       "      <th>Category</th>\n",
       "      <th>Message</th>\n",
       "    </tr>\n",
       "  </thead>\n",
       "  <tbody>\n",
       "    <tr>\n",
       "      <th>0</th>\n",
       "      <td>ham</td>\n",
       "      <td>Go until jurong point, crazy.. Available only ...</td>\n",
       "    </tr>\n",
       "    <tr>\n",
       "      <th>1</th>\n",
       "      <td>ham</td>\n",
       "      <td>Ok lar... Joking wif u oni...</td>\n",
       "    </tr>\n",
       "    <tr>\n",
       "      <th>2</th>\n",
       "      <td>spam</td>\n",
       "      <td>Free entry in 2 a wkly comp to win FA Cup fina...</td>\n",
       "    </tr>\n",
       "    <tr>\n",
       "      <th>3</th>\n",
       "      <td>ham</td>\n",
       "      <td>U dun say so early hor... U c already then say...</td>\n",
       "    </tr>\n",
       "    <tr>\n",
       "      <th>4</th>\n",
       "      <td>ham</td>\n",
       "      <td>Nah I don't think he goes to usf, he lives aro...</td>\n",
       "    </tr>\n",
       "  </tbody>\n",
       "</table>\n",
       "</div>"
      ],
      "text/plain": [
       "  Category                                            Message\n",
       "0      ham  Go until jurong point, crazy.. Available only ...\n",
       "1      ham                      Ok lar... Joking wif u oni...\n",
       "2     spam  Free entry in 2 a wkly comp to win FA Cup fina...\n",
       "3      ham  U dun say so early hor... U c already then say...\n",
       "4      ham  Nah I don't think he goes to usf, he lives aro..."
      ]
     },
     "execution_count": 2,
     "metadata": {},
     "output_type": "execute_result"
    }
   ],
   "source": [
    "df = pd.read_csv('/kaggle/input/spam-email/spam.csv')\n",
    "df.head()"
   ]
  },
  {
   "cell_type": "code",
   "execution_count": 3,
   "id": "06cd795d",
   "metadata": {
    "execution": {
     "iopub.execute_input": "2024-04-27T12:21:43.465762Z",
     "iopub.status.busy": "2024-04-27T12:21:43.465320Z",
     "iopub.status.idle": "2024-04-27T12:21:43.476845Z",
     "shell.execute_reply": "2024-04-27T12:21:43.475703Z"
    },
    "papermill": {
     "duration": 0.022098,
     "end_time": "2024-04-27T12:21:43.479288",
     "exception": false,
     "start_time": "2024-04-27T12:21:43.457190",
     "status": "completed"
    },
    "tags": []
   },
   "outputs": [
    {
     "name": "stdout",
     "output_type": "stream",
     "text": [
      "Total missing values in the dataset:\n",
      " Category    0\n",
      "Message     0\n",
      "dtype: int64\n"
     ]
    }
   ],
   "source": [
    "print(\"Total missing values in the dataset:\\n\", df.isnull().sum())"
   ]
  },
  {
   "cell_type": "code",
   "execution_count": 4,
   "id": "6a29097d",
   "metadata": {
    "execution": {
     "iopub.execute_input": "2024-04-27T12:21:43.495372Z",
     "iopub.status.busy": "2024-04-27T12:21:43.494652Z",
     "iopub.status.idle": "2024-04-27T12:21:43.508622Z",
     "shell.execute_reply": "2024-04-27T12:21:43.507387Z"
    },
    "papermill": {
     "duration": 0.025166,
     "end_time": "2024-04-27T12:21:43.511448",
     "exception": false,
     "start_time": "2024-04-27T12:21:43.486282",
     "status": "completed"
    },
    "tags": []
   },
   "outputs": [
    {
     "name": "stdout",
     "output_type": "stream",
     "text": [
      "Total duplicates in the dataset :  415\n"
     ]
    }
   ],
   "source": [
    "print(\"Total duplicates in the dataset : \", df.duplicated().sum())"
   ]
  },
  {
   "cell_type": "code",
   "execution_count": 5,
   "id": "51a51975",
   "metadata": {
    "execution": {
     "iopub.execute_input": "2024-04-27T12:21:43.527511Z",
     "iopub.status.busy": "2024-04-27T12:21:43.526745Z",
     "iopub.status.idle": "2024-04-27T12:21:43.547024Z",
     "shell.execute_reply": "2024-04-27T12:21:43.545618Z"
    },
    "papermill": {
     "duration": 0.031162,
     "end_time": "2024-04-27T12:21:43.549637",
     "exception": false,
     "start_time": "2024-04-27T12:21:43.518475",
     "status": "completed"
    },
    "tags": []
   },
   "outputs": [
    {
     "name": "stdout",
     "output_type": "stream",
     "text": [
      "Total duplicates in the dataset after removal of duplicates :  0\n"
     ]
    }
   ],
   "source": [
    "#remove Duplicates keeping only 1 occurence\n",
    "df = df.drop_duplicates(keep = 'first')\n",
    "print(\"Total duplicates in the dataset after removal of duplicates : \", df.duplicated().sum())"
   ]
  },
  {
   "cell_type": "code",
   "execution_count": 6,
   "id": "51e92243",
   "metadata": {
    "execution": {
     "iopub.execute_input": "2024-04-27T12:21:43.566867Z",
     "iopub.status.busy": "2024-04-27T12:21:43.566108Z",
     "iopub.status.idle": "2024-04-27T12:21:43.847393Z",
     "shell.execute_reply": "2024-04-27T12:21:43.845666Z"
    },
    "papermill": {
     "duration": 0.294332,
     "end_time": "2024-04-27T12:21:43.851119",
     "exception": false,
     "start_time": "2024-04-27T12:21:43.556787",
     "status": "completed"
    },
    "tags": []
   },
   "outputs": [
    {
     "data": {
      "text/plain": [
       "Text(0.5, 1.0, 'Classification of Dataset')"
      ]
     },
     "execution_count": 6,
     "metadata": {},
     "output_type": "execute_result"
    },
    {
     "data": {
      "image/png": "[encoded data removed]",
      "text/plain": [
       "<Figure size 800x800 with 1 Axes>"
      ]
     },
     "metadata": {},
     "output_type": "display_data"
    }
   ],
   "source": [
    "pie_df = df['Category'].value_counts().reset_index()\n",
    "\n",
    "\n",
    "plt.figure(figsize=(8, 8))\n",
    "patches, texts, autotexts = plt.pie(pie_df['count'], \n",
    "                                    labels=['ham', 'spam'], \n",
    "                                    autopct='%1.1f%%', \n",
    "                                    textprops={'fontsize':12},\n",
    "                                    startangle = 90, \n",
    "                                    labeldistance=0.7,\n",
    "                                    pctdistance=0.5,\n",
    "                                    wedgeprops={'linewidth': 2, 'edgecolor': 'white'},\n",
    "                                    colors=['#4378cc','#e6d902'])\n",
    "\n",
    "# Customize text labels\n",
    "for text in texts:\n",
    "    text.set_horizontalalignment('center')\n",
    "    text.set(size=14, weight='bold')\n",
    "# Customize percent labels\n",
    "for autotext in autotexts:\n",
    "    autotext.set_horizontalalignment('center')\n",
    "    autotext.set(size=14, weight='bold')\n",
    "\n",
    "    \n",
    "plt.title(\"Classification of Dataset\",fontsize=16, fontweight='bold')"
   ]
  },
  {
   "cell_type": "code",
   "execution_count": 7,
   "id": "6afdeb4e",
   "metadata": {
    "_kg_hide-input": true,
    "execution": {
     "iopub.execute_input": "2024-04-27T12:21:43.869448Z",
     "iopub.status.busy": "2024-04-27T12:21:43.868397Z",
     "iopub.status.idle": "2024-04-27T12:21:43.872816Z",
     "shell.execute_reply": "2024-04-27T12:21:43.871939Z"
    },
    "papermill": {
     "duration": 0.01633,
     "end_time": "2024-04-27T12:21:43.875266",
     "exception": false,
     "start_time": "2024-04-27T12:21:43.858936",
     "status": "completed"
    },
    "tags": []
   },
   "outputs": [],
   "source": [
    "##Create a new column for storing our labels which tells us if the message is Spam(1) or not(0)\n",
    "#df['Spam']= df.Category.apply(lambda x : 1 if x == 'spam' else 0)"
   ]
  },
  {
   "cell_type": "code",
   "execution_count": 8,
   "id": "f7b701f3",
   "metadata": {
    "execution": {
     "iopub.execute_input": "2024-04-27T12:21:43.893697Z",
     "iopub.status.busy": "2024-04-27T12:21:43.892920Z",
     "iopub.status.idle": "2024-04-27T12:21:43.903816Z",
     "shell.execute_reply": "2024-04-27T12:21:43.902428Z"
    },
    "papermill": {
     "duration": 0.023302,
     "end_time": "2024-04-27T12:21:43.906845",
     "exception": false,
     "start_time": "2024-04-27T12:21:43.883543",
     "status": "completed"
    },
    "tags": []
   },
   "outputs": [
    {
     "data": {
      "text/html": [
       "<div>\n",
       "<style scoped>\n",
       "    .dataframe tbody tr th:only-of-type {\n",
       "        vertical-align: middle;\n",
       "    }\n",
       "\n",
       "    .dataframe tbody tr th {\n",
       "        vertical-align: top;\n",
       "    }\n",
       "\n",
       "    .dataframe thead th {\n",
       "        text-align: right;\n",
       "    }\n",
       "</style>\n",
       "<table border=\"1\" class=\"dataframe\">\n",
       "  <thead>\n",
       "    <tr style=\"text-align: right;\">\n",
       "      <th></th>\n",
       "      <th>Category</th>\n",
       "      <th>Message</th>\n",
       "    </tr>\n",
       "  </thead>\n",
       "  <tbody>\n",
       "    <tr>\n",
       "      <th>0</th>\n",
       "      <td>ham</td>\n",
       "      <td>Go until jurong point, crazy.. Available only ...</td>\n",
       "    </tr>\n",
       "    <tr>\n",
       "      <th>1</th>\n",
       "      <td>ham</td>\n",
       "      <td>Ok lar... Joking wif u oni...</td>\n",
       "    </tr>\n",
       "    <tr>\n",
       "      <th>2</th>\n",
       "      <td>spam</td>\n",
       "      <td>Free entry in 2 a wkly comp to win FA Cup fina...</td>\n",
       "    </tr>\n",
       "    <tr>\n",
       "      <th>3</th>\n",
       "      <td>ham</td>\n",
       "      <td>U dun say so early hor... U c already then say...</td>\n",
       "    </tr>\n",
       "    <tr>\n",
       "      <th>4</th>\n",
       "      <td>ham</td>\n",
       "      <td>Nah I don't think he goes to usf, he lives aro...</td>\n",
       "    </tr>\n",
       "  </tbody>\n",
       "</table>\n",
       "</div>"
      ],
      "text/plain": [
       "  Category                                            Message\n",
       "0      ham  Go until jurong point, crazy.. Available only ...\n",
       "1      ham                      Ok lar... Joking wif u oni...\n",
       "2     spam  Free entry in 2 a wkly comp to win FA Cup fina...\n",
       "3      ham  U dun say so early hor... U c already then say...\n",
       "4      ham  Nah I don't think he goes to usf, he lives aro..."
      ]
     },
     "execution_count": 8,
     "metadata": {},
     "output_type": "execute_result"
    }
   ],
   "source": [
    "df.head()"
   ]
  },
  {
   "cell_type": "code",
   "execution_count": 9,
   "id": "dfd3ef6f",
   "metadata": {
    "execution": {
     "iopub.execute_input": "2024-04-27T12:21:43.924884Z",
     "iopub.status.busy": "2024-04-27T12:21:43.924433Z",
     "iopub.status.idle": "2024-04-27T12:21:43.932609Z",
     "shell.execute_reply": "2024-04-27T12:21:43.931204Z"
    },
    "papermill": {
     "duration": 0.020454,
     "end_time": "2024-04-27T12:21:43.935334",
     "exception": false,
     "start_time": "2024-04-27T12:21:43.914880",
     "status": "completed"
    },
    "tags": []
   },
   "outputs": [],
   "source": [
    "#Use LabelEncoder for labelling the dataset\n",
    "encoder = LabelEncoder()\n",
    "df['Category'] = encoder.fit_transform(df['Category'])"
   ]
  },
  {
   "cell_type": "markdown",
   "id": "d43a1bf0",
   "metadata": {
    "papermill": {
     "duration": 0.007548,
     "end_time": "2024-04-27T12:21:43.951073",
     "exception": false,
     "start_time": "2024-04-27T12:21:43.943525",
     "status": "completed"
    },
    "tags": []
   },
   "source": [
    "**We use Label Encoder which converts the Category column to have 0 and 1 to show if the message is spam (1) or ham (0).**"
   ]
  },
  {
   "cell_type": "code",
   "execution_count": 10,
   "id": "2b3bbb46",
   "metadata": {
    "execution": {
     "iopub.execute_input": "2024-04-27T12:21:43.971495Z",
     "iopub.status.busy": "2024-04-27T12:21:43.970195Z",
     "iopub.status.idle": "2024-04-27T12:21:43.981616Z",
     "shell.execute_reply": "2024-04-27T12:21:43.980409Z"
    },
    "papermill": {
     "duration": 0.024606,
     "end_time": "2024-04-27T12:21:43.984140",
     "exception": false,
     "start_time": "2024-04-27T12:21:43.959534",
     "status": "completed"
    },
    "tags": []
   },
   "outputs": [
    {
     "data": {
      "text/html": [
       "<div>\n",
       "<style scoped>\n",
       "    .dataframe tbody tr th:only-of-type {\n",
       "        vertical-align: middle;\n",
       "    }\n",
       "\n",
       "    .dataframe tbody tr th {\n",
       "        vertical-align: top;\n",
       "    }\n",
       "\n",
       "    .dataframe thead th {\n",
       "        text-align: right;\n",
       "    }\n",
       "</style>\n",
       "<table border=\"1\" class=\"dataframe\">\n",
       "  <thead>\n",
       "    <tr style=\"text-align: right;\">\n",
       "      <th></th>\n",
       "      <th>Category</th>\n",
       "      <th>Message</th>\n",
       "    </tr>\n",
       "  </thead>\n",
       "  <tbody>\n",
       "    <tr>\n",
       "      <th>0</th>\n",
       "      <td>0</td>\n",
       "      <td>Go until jurong point, crazy.. Available only ...</td>\n",
       "    </tr>\n",
       "    <tr>\n",
       "      <th>1</th>\n",
       "      <td>0</td>\n",
       "      <td>Ok lar... Joking wif u oni...</td>\n",
       "    </tr>\n",
       "    <tr>\n",
       "      <th>2</th>\n",
       "      <td>1</td>\n",
       "      <td>Free entry in 2 a wkly comp to win FA Cup fina...</td>\n",
       "    </tr>\n",
       "    <tr>\n",
       "      <th>3</th>\n",
       "      <td>0</td>\n",
       "      <td>U dun say so early hor... U c already then say...</td>\n",
       "    </tr>\n",
       "    <tr>\n",
       "      <th>4</th>\n",
       "      <td>0</td>\n",
       "      <td>Nah I don't think he goes to usf, he lives aro...</td>\n",
       "    </tr>\n",
       "  </tbody>\n",
       "</table>\n",
       "</div>"
      ],
      "text/plain": [
       "   Category                                            Message\n",
       "0         0  Go until jurong point, crazy.. Available only ...\n",
       "1         0                      Ok lar... Joking wif u oni...\n",
       "2         1  Free entry in 2 a wkly comp to win FA Cup fina...\n",
       "3         0  U dun say so early hor... U c already then say...\n",
       "4         0  Nah I don't think he goes to usf, he lives aro..."
      ]
     },
     "execution_count": 10,
     "metadata": {},
     "output_type": "execute_result"
    }
   ],
   "source": [
    "df.head()"
   ]
  },
  {
   "cell_type": "code",
   "execution_count": 11,
   "id": "3661196a",
   "metadata": {
    "execution": {
     "iopub.execute_input": "2024-04-27T12:21:44.003333Z",
     "iopub.status.busy": "2024-04-27T12:21:44.002427Z",
     "iopub.status.idle": "2024-04-27T12:21:44.010411Z",
     "shell.execute_reply": "2024-04-27T12:21:44.008970Z"
    },
    "papermill": {
     "duration": 0.020767,
     "end_time": "2024-04-27T12:21:44.012937",
     "exception": false,
     "start_time": "2024-04-27T12:21:43.992170",
     "status": "completed"
    },
    "tags": []
   },
   "outputs": [
    {
     "data": {
      "text/plain": [
       "(5157, 2)"
      ]
     },
     "execution_count": 11,
     "metadata": {},
     "output_type": "execute_result"
    }
   ],
   "source": [
    "df.shape"
   ]
  },
  {
   "cell_type": "markdown",
   "id": "42c0880c",
   "metadata": {
    "papermill": {
     "duration": 0.007927,
     "end_time": "2024-04-27T12:21:44.029362",
     "exception": false,
     "start_time": "2024-04-27T12:21:44.021435",
     "status": "completed"
    },
    "tags": []
   },
   "source": [
    "**Create Train and Test dataset using test_train_split**"
   ]
  },
  {
   "cell_type": "code",
   "execution_count": 12,
   "id": "9bdea7b6",
   "metadata": {
    "_kg_hide-input": false,
    "execution": {
     "iopub.execute_input": "2024-04-27T12:21:44.048293Z",
     "iopub.status.busy": "2024-04-27T12:21:44.047507Z",
     "iopub.status.idle": "2024-04-27T12:21:44.062021Z",
     "shell.execute_reply": "2024-04-27T12:21:44.060577Z"
    },
    "papermill": {
     "duration": 0.027062,
     "end_time": "2024-04-27T12:21:44.064661",
     "exception": false,
     "start_time": "2024-04-27T12:21:44.037599",
     "status": "completed"
    },
    "tags": []
   },
   "outputs": [
    {
     "data": {
      "text/plain": [
       "((4125,), (1032,), (4125,), (1032,))"
      ]
     },
     "execution_count": 12,
     "metadata": {},
     "output_type": "execute_result"
    }
   ],
   "source": [
    "X_train, X_test, Y_train, Y_test = train_test_split(df.Message, df.Category, test_size = 0.2)\n",
    "X_train.shape, X_test.shape, Y_train.shape, Y_test.shape"
   ]
  },
  {
   "cell_type": "markdown",
   "id": "ae754414",
   "metadata": {
    "papermill": {
     "duration": 0.008022,
     "end_time": "2024-04-27T12:21:44.081020",
     "exception": false,
     "start_time": "2024-04-27T12:21:44.072998",
     "status": "completed"
    },
    "tags": []
   },
   "source": [
    "**We can create a pipeline with the Count Vectorizer and Multinomial Naive Bayes Classifier.**"
   ]
  },
  {
   "cell_type": "code",
   "execution_count": 13,
   "id": "8e688029",
   "metadata": {
    "execution": {
     "iopub.execute_input": "2024-04-27T12:21:44.099877Z",
     "iopub.status.busy": "2024-04-27T12:21:44.099446Z",
     "iopub.status.idle": "2024-04-27T12:21:44.112206Z",
     "shell.execute_reply": "2024-04-27T12:21:44.110839Z"
    },
    "papermill": {
     "duration": 0.025453,
     "end_time": "2024-04-27T12:21:44.114941",
     "exception": false,
     "start_time": "2024-04-27T12:21:44.089488",
     "status": "completed"
    },
    "tags": []
   },
   "outputs": [
    {
     "data": {
      "text/html": [
       "<style>#sk-container-id-1 {color: black;background-color: white;}#sk-container-id-1 pre{padding: 0;}#sk-container-id-1 div.sk-toggleable {background-color: white;}#sk-container-id-1 label.sk-toggleable__label {cursor: pointer;display: block;width: 100%;margin-bottom: 0;padding: 0.3em;box-sizing: border-box;text-align: center;}#sk-container-id-1 label.sk-toggleable__label-arrow:before {content: \"▸\";float: left;margin-right: 0.25em;color: #696969;}#sk-container-id-1 label.sk-toggleable__label-arrow:hover:before {color: black;}#sk-container-id-1 div.sk-estimator:hover label.sk-toggleable__label-arrow:before {color: black;}#sk-container-id-1 div.sk-toggleable__content {max-height: 0;max-width: 0;overflow: hidden;text-align: left;background-color: #f0f8ff;}#sk-container-id-1 div.sk-toggleable__content pre {margin: 0.2em;color: black;border-radius: 0.25em;background-color: #f0f8ff;}#sk-container-id-1 input.sk-toggleable__control:checked~div.sk-toggleable__content {max-height: 200px;max-width: 100%;overflow: auto;}#sk-container-id-1 input.sk-toggleable__control:checked~label.sk-toggleable__label-arrow:before {content: \"▾\";}#sk-container-id-1 div.sk-estimator input.sk-toggleable__control:checked~label.sk-toggleable__label {background-color: #d4ebff;}#sk-container-id-1 div.sk-label input.sk-toggleable__control:checked~label.sk-toggleable__label {background-color: #d4ebff;}#sk-container-id-1 input.sk-hidden--visually {border: 0;clip: rect(1px 1px 1px 1px);clip: rect(1px, 1px, 1px, 1px);height: 1px;margin: -1px;overflow: hidden;padding: 0;position: absolute;width: 1px;}#sk-container-id-1 div.sk-estimator {font-family: monospace;background-color: #f0f8ff;border: 1px dotted black;border-radius: 0.25em;box-sizing: border-box;margin-bottom: 0.5em;}#sk-container-id-1 div.sk-estimator:hover {background-color: #d4ebff;}#sk-container-id-1 div.sk-parallel-item::after {content: \"\";width: 100%;border-bottom: 1px solid gray;flex-grow: 1;}#sk-container-id-1 div.sk-label:hover label.sk-toggleable__label {background-color: #d4ebff;}#sk-container-id-1 div.sk-serial::before {content: \"\";position: absolute;border-left: 1px solid gray;box-sizing: border-box;top: 0;bottom: 0;left: 50%;z-index: 0;}#sk-container-id-1 div.sk-serial {display: flex;flex-direction: column;align-items: center;background-color: white;padding-right: 0.2em;padding-left: 0.2em;position: relative;}#sk-container-id-1 div.sk-item {position: relative;z-index: 1;}#sk-container-id-1 div.sk-parallel {display: flex;align-items: stretch;justify-content: center;background-color: white;position: relative;}#sk-container-id-1 div.sk-item::before, #sk-container-id-1 div.sk-parallel-item::before {content: \"\";position: absolute;border-left: 1px solid gray;box-sizing: border-box;top: 0;bottom: 0;left: 50%;z-index: -1;}#sk-container-id-1 div.sk-parallel-item {display: flex;flex-direction: column;z-index: 1;position: relative;background-color: white;}#sk-container-id-1 div.sk-parallel-item:first-child::after {align-self: flex-end;width: 50%;}#sk-container-id-1 div.sk-parallel-item:last-child::after {align-self: flex-start;width: 50%;}#sk-container-id-1 div.sk-parallel-item:only-child::after {width: 0;}#sk-container-id-1 div.sk-dashed-wrapped {border: 1px dashed gray;margin: 0 0.4em 0.5em 0.4em;box-sizing: border-box;padding-bottom: 0.4em;background-color: white;}#sk-container-id-1 div.sk-label label {font-family: monospace;font-weight: bold;display: inline-block;line-height: 1.2em;}#sk-container-id-1 div.sk-label-container {text-align: center;}#sk-container-id-1 div.sk-container {/* jupyter's `normalize.less` sets `[hidden] { display: none; }` but bootstrap.min.css set `[hidden] { display: none !important; }` so we also need the `!important` here to be able to override the default hidden behavior on the sphinx rendered scikit-learn.org. See: https://github.com/scikit-learn/scikit-learn/issues/21755 */display: inline-block !important;position: relative;}#sk-container-id-1 div.sk-text-repr-fallback {display: none;}</style><div id=\"sk-container-id-1\" class=\"sk-top-container\"><div class=\"sk-text-repr-fallback\"><pre>Pipeline(steps=[(&#x27;vectorizer&#x27;, CountVectorizer()), (&#x27;mnb&#x27;, MultinomialNB())])</pre><b>In a Jupyter environment, please rerun this cell to show the HTML representation or trust the notebook. <br />On GitHub, the HTML representation is unable to render, please try loading this page with nbviewer.org.</b></div><div class=\"sk-container\" hidden><div class=\"sk-item sk-dashed-wrapped\"><div class=\"sk-label-container\"><div class=\"sk-label sk-toggleable\"><input class=\"sk-toggleable__control sk-hidden--visually\" id=\"sk-estimator-id-1\" type=\"checkbox\" ><label for=\"sk-estimator-id-1\" class=\"sk-toggleable__label sk-toggleable__label-arrow\">Pipeline</label><div class=\"sk-toggleable__content\"><pre>Pipeline(steps=[(&#x27;vectorizer&#x27;, CountVectorizer()), (&#x27;mnb&#x27;, MultinomialNB())])</pre></div></div></div><div class=\"sk-serial\"><div class=\"sk-item\"><div class=\"sk-estimator sk-toggleable\"><input class=\"sk-toggleable__control sk-hidden--visually\" id=\"sk-estimator-id-2\" type=\"checkbox\" ><label for=\"sk-estimator-id-2\" class=\"sk-toggleable__label sk-toggleable__label-arrow\">CountVectorizer</label><div class=\"sk-toggleable__content\"><pre>CountVectorizer()</pre></div></div></div><div class=\"sk-item\"><div class=\"sk-estimator sk-toggleable\"><input class=\"sk-toggleable__control sk-hidden--visually\" id=\"sk-estimator-id-3\" type=\"checkbox\" ><label for=\"sk-estimator-id-3\" class=\"sk-toggleable__label sk-toggleable__label-arrow\">MultinomialNB</label><div class=\"sk-toggleable__content\"><pre>MultinomialNB()</pre></div></div></div></div></div></div></div>"
      ],
      "text/plain": [
       "Pipeline(steps=[('vectorizer', CountVectorizer()), ('mnb', MultinomialNB())])"
      ]
     },
     "execution_count": 13,
     "metadata": {},
     "output_type": "execute_result"
    }
   ],
   "source": [
    "model = Pipeline([\n",
    "        ('vectorizer', CountVectorizer()),\n",
    "        ('mnb', MultinomialNB())\n",
    "        ])\n",
    "model"
   ]
  },
  {
   "cell_type": "code",
   "execution_count": 14,
   "id": "373c1bdc",
   "metadata": {
    "execution": {
     "iopub.execute_input": "2024-04-27T12:21:44.134916Z",
     "iopub.status.busy": "2024-04-27T12:21:44.134507Z",
     "iopub.status.idle": "2024-04-27T12:21:44.709318Z",
     "shell.execute_reply": "2024-04-27T12:21:44.707871Z"
    },
    "papermill": {
     "duration": 0.587955,
     "end_time": "2024-04-27T12:21:44.712165",
     "exception": false,
     "start_time": "2024-04-27T12:21:44.124210",
     "status": "completed"
    },
    "tags": []
   },
   "outputs": [
    {
     "name": "stdout",
     "output_type": "stream",
     "text": [
      "\u001b[1mClassifier :  Multinomial Naive Bayes\n",
      "\u001b[1mAccuracy   :  98.16 %\n",
      "\u001b[1mPrecision  :  96.69 %\n"
     ]
    },
    {
     "data": {
      "image/png": "[encoded data removed]",
      "text/plain": [
       "<Figure size 640x480 with 2 Axes>"
      ]
     },
     "metadata": {},
     "output_type": "display_data"
    },
    {
     "name": "stdout",
     "output_type": "stream",
     "text": [
      "\u001b[1mClassification Report\u001b[0m\n",
      "              precision    recall  f1-score   support\n",
      "\n",
      "           0       0.98      1.00      0.99       900\n",
      "           1       0.97      0.89      0.92       132\n",
      "\n",
      "    accuracy                           0.98      1032\n",
      "   macro avg       0.98      0.94      0.96      1032\n",
      "weighted avg       0.98      0.98      0.98      1032\n",
      "\n"
     ]
    }
   ],
   "source": [
    "print('\\033[1mClassifier : ', 'Multinomial Naive Bayes')\n",
    "model.fit(X_train, Y_train)\n",
    "predictions = model.predict(X_test)\n",
    "print(\"\\033[1mAccuracy   : \", \"{:.2f}\".format(accuracy_score(Y_test, predictions)*100), \"%\")\n",
    "print(\"\\033[1mPrecision  : \", \"{:.2f}\".format(precision_score(Y_test, predictions)*100), \"%\")\n",
    "cm = confusion_matrix(Y_test, predictions, labels = model.classes_)\n",
    "disp = ConfusionMatrixDisplay(confusion_matrix=cm, display_labels = ['ham', 'spam'])\n",
    "disp.plot()\n",
    "plt.xlabel(\"Predicted\")\n",
    "plt.ylabel(\"True\")\n",
    "plt.show()\n",
    "print(\"\\033[1mClassification Report\\033[0m\")\n",
    "print(classification_report(Y_test, predictions))"
   ]
  }
 ],
 "metadata": {
  "kaggle": {
   "accelerator": "none",
   "dataSources": [
    {
     "datasetId": 1422521,
     "sourceId": 2355807,
     "sourceType": "datasetVersion"
    }
   ],
   "dockerImageVersionId": 30698,
   "isGpuEnabled": false,
   "isInternetEnabled": true,
   "language": "python",
   "sourceType": "notebook"
  },
  "kernelspec": {
   "display_name": "Python 3",
   "language": "python",
   "name": "python3"
  },
  "language_info": {
   "codemirror_mode": {
    "name": "ipython",
    "version": 3
   },
   "file_extension": ".py",
   "mimetype": "text/x-python",
   "name": "python",
   "nbconvert_exporter": "python",
   "pygments_lexer": "ipython3",
   "version": "3.10.13"
  },
  "papermill": {
   "default_parameters": {},
   "duration": 7.957573,
   "end_time": "2024-04-27T12:21:45.344909",
   "environment_variables": {},
   "exception": null,
   "input_path": "__notebook__.ipynb",
   "output_path": "__notebook__.ipynb",
   "parameters": {},
   "start_time": "2024-04-27T12:21:37.387336",
   "version": "2.5.0"
  }
 },
 "nbformat": 4,
 "nbformat_minor": 5
}
