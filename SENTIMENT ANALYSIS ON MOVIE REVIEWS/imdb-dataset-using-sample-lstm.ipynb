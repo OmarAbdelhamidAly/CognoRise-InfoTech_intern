{
 "cells": [
  {
   "cell_type": "code",
   "execution_count": 1,
   "id": "5ef38194",
   "metadata": {
    "_cell_guid": "b1076dfc-b9ad-4769-8c92-a6c4dae69d19",
    "_uuid": "8f2839f25d086af736a60e9eeb907d3b93b6e0e5",
    "papermill": {
     "duration": 15.650589,
     "end_time": "2024-09-12T12:14:55.872863",
     "exception": false,
     "start_time": "2024-09-12T12:14:40.222274",
     "status": "completed"
    },
    "tags": []
   },
   "outputs": [],
   "source": [
    "import pandas as pd\n",
    "import numpy as np\n",
    "import re\n",
    "from tensorflow.keras.preprocessing.text import Tokenizer\n",
    "import matplotlib.pyplot as plt\n",
    "import seaborn as sns\n",
    "import tensorflow as tf\n",
    "from nltk.corpus import stopwords\n",
    "from sklearn.model_selection import train_test_split\n",
    "from keras.preprocessing.sequence import pad_sequences\n",
    "from tensorflow.keras.models import Sequential\n",
    "from tensorflow.keras.layers import Embedding, LSTM, Dense, Dropout\n",
    "from tensorflow.keras.optimizers import Adam\n",
    "from sklearn.metrics import classification_report\n",
    "from tensorflow.keras.layers import Dense, Dropout, Embedding, LSTM, GRU, SimpleRNN, Bidirectional, Conv1D, MaxPooling1D, Flatten\n",
    "from tensorflow.keras.optimizers import Adam"
   ]
  },
  {
   "cell_type": "code",
   "execution_count": 2,
   "id": "992d616f",
   "metadata": {
    "papermill": {
     "duration": 1.451956,
     "end_time": "2024-09-12T12:14:57.332773",
     "exception": false,
     "start_time": "2024-09-12T12:14:55.880817",
     "status": "completed"
    },
    "tags": []
   },
   "outputs": [
    {
     "data": {
      "text/html": [
       "<div>\n",
       "<style scoped>\n",
       "    .dataframe tbody tr th:only-of-type {\n",
       "        vertical-align: middle;\n",
       "    }\n",
       "\n",
       "    .dataframe tbody tr th {\n",
       "        vertical-align: top;\n",
       "    }\n",
       "\n",
       "    .dataframe thead th {\n",
       "        text-align: right;\n",
       "    }\n",
       "</style>\n",
       "<table border=\"1\" class=\"dataframe\">\n",
       "  <thead>\n",
       "    <tr style=\"text-align: right;\">\n",
       "      <th></th>\n",
       "      <th>review</th>\n",
       "      <th>sentiment</th>\n",
       "    </tr>\n",
       "  </thead>\n",
       "  <tbody>\n",
       "    <tr>\n",
       "      <th>0</th>\n",
       "      <td>One of the other reviewers has mentioned that ...</td>\n",
       "      <td>positive</td>\n",
       "    </tr>\n",
       "    <tr>\n",
       "      <th>1</th>\n",
       "      <td>A wonderful little production. &lt;br /&gt;&lt;br /&gt;The...</td>\n",
       "      <td>positive</td>\n",
       "    </tr>\n",
       "    <tr>\n",
       "      <th>2</th>\n",
       "      <td>I thought this was a wonderful way to spend ti...</td>\n",
       "      <td>positive</td>\n",
       "    </tr>\n",
       "    <tr>\n",
       "      <th>3</th>\n",
       "      <td>Basically there's a family where a little boy ...</td>\n",
       "      <td>negative</td>\n",
       "    </tr>\n",
       "    <tr>\n",
       "      <th>4</th>\n",
       "      <td>Petter Mattei's \"Love in the Time of Money\" is...</td>\n",
       "      <td>positive</td>\n",
       "    </tr>\n",
       "  </tbody>\n",
       "</table>\n",
       "</div>"
      ],
      "text/plain": [
       "                                              review sentiment\n",
       "0  One of the other reviewers has mentioned that ...  positive\n",
       "1  A wonderful little production. <br /><br />The...  positive\n",
       "2  I thought this was a wonderful way to spend ti...  positive\n",
       "3  Basically there's a family where a little boy ...  negative\n",
       "4  Petter Mattei's \"Love in the Time of Money\" is...  positive"
      ]
     },
     "execution_count": 2,
     "metadata": {},
     "output_type": "execute_result"
    }
   ],
   "source": [
    "Data_path='IMDB Dataset.csv'\n",
    "df = pd.read_csv(Data_path)\n",
    "df.head()"
   ]
  },
  {
   "cell_type": "code",
   "execution_count": 3,
   "id": "586a81bc",
   "metadata": {
    "papermill": {
     "duration": 0.047074,
     "end_time": "2024-09-12T12:14:57.388895",
     "exception": false,
     "start_time": "2024-09-12T12:14:57.341821",
     "status": "completed"
    },
    "tags": []
   },
   "outputs": [
    {
     "name": "stdout",
     "output_type": "stream",
     "text": [
      "<class 'pandas.core.frame.DataFrame'>\n",
      "RangeIndex: 50000 entries, 0 to 49999\n",
      "Data columns (total 2 columns):\n",
      " #   Column     Non-Null Count  Dtype \n",
      "---  ------     --------------  ----- \n",
      " 0   review     50000 non-null  object\n",
      " 1   sentiment  50000 non-null  object\n",
      "dtypes: object(2)\n",
      "memory usage: 781.4+ KB\n"
     ]
    }
   ],
   "source": [
    "df.info()"
   ]
  },
  {
   "cell_type": "code",
   "execution_count": 4,
   "id": "9d0dc7ab",
   "metadata": {
    "papermill": {
     "duration": 0.022105,
     "end_time": "2024-09-12T12:14:57.419140",
     "exception": false,
     "start_time": "2024-09-12T12:14:57.397035",
     "status": "completed"
    },
    "tags": []
   },
   "outputs": [
    {
     "data": {
      "text/plain": [
       "array(['positive', 'negative'], dtype=object)"
      ]
     },
     "execution_count": 4,
     "metadata": {},
     "output_type": "execute_result"
    }
   ],
   "source": [
    "df['sentiment'].unique()"
   ]
  },
  {
   "cell_type": "code",
   "execution_count": 5,
   "id": "227e669b",
   "metadata": {
    "papermill": {
     "duration": 0.356244,
     "end_time": "2024-09-12T12:14:57.783587",
     "exception": false,
     "start_time": "2024-09-12T12:14:57.427343",
     "status": "completed"
    },
    "tags": []
   },
   "outputs": [
    {
     "data": {
      "text/plain": [
       "Text(0.5, 1.0, 'Sentiment Field Distribution\\n25000\\n25000')"
      ]
     },
     "execution_count": 5,
     "metadata": {},
     "output_type": "execute_result"
    },
    {
     "data": {
      "image/png": "[encoded data removed]",
      "text/plain": [
       "<Figure size 200x400 with 1 Axes>"
      ]
     },
     "metadata": {},
     "output_type": "display_data"
    }
   ],
   "source": [
    "val_count=df[\"sentiment\"].value_counts()\n",
    "plt.figure(figsize= (2,4))\n",
    "sns.countplot(data = df, x= 'sentiment')\n",
    "plt.title(f'Sentiment Field Distribution\\n{val_count.to_string(index=False, header=None)}')"
   ]
  },
  {
   "cell_type": "markdown",
   "id": "3c04fc89",
   "metadata": {
    "papermill": {
     "duration": 0.009578,
     "end_time": "2024-09-12T12:14:57.803130",
     "exception": false,
     "start_time": "2024-09-12T12:14:57.793552",
     "status": "completed"
    },
    "tags": []
   },
   "source": [
    "## Mapping positive->1, Negative->0"
   ]
  },
  {
   "cell_type": "code",
   "execution_count": 6,
   "id": "ad68e38a",
   "metadata": {
    "papermill": {
     "duration": 0.043565,
     "end_time": "2024-09-12T12:14:57.856589",
     "exception": false,
     "start_time": "2024-09-12T12:14:57.813024",
     "status": "completed"
    },
    "tags": []
   },
   "outputs": [],
   "source": [
    "df.loc[df[\"sentiment\"] == 'positive', \"sentiment\"] = 1\n",
    "df.loc[df[\"sentiment\"] == 'negative', \"sentiment\"] = 0"
   ]
  },
  {
   "cell_type": "code",
   "execution_count": 7,
   "id": "b6b085f8",
   "metadata": {
    "papermill": {
     "duration": 0.022991,
     "end_time": "2024-09-12T12:14:57.889679",
     "exception": false,
     "start_time": "2024-09-12T12:14:57.866688",
     "status": "completed"
    },
    "tags": []
   },
   "outputs": [
    {
     "data": {
      "text/plain": [
       "array([1, 0], dtype=object)"
      ]
     },
     "execution_count": 7,
     "metadata": {},
     "output_type": "execute_result"
    }
   ],
   "source": [
    "df['sentiment'].unique()"
   ]
  },
  {
   "cell_type": "markdown",
   "id": "dcfdf213",
   "metadata": {
    "papermill": {
     "duration": 0.00855,
     "end_time": "2024-09-12T12:14:57.907019",
     "exception": false,
     "start_time": "2024-09-12T12:14:57.898469",
     "status": "completed"
    },
    "tags": []
   },
   "source": [
    "## Regular Expression to clean text by removing urls, emojis, html tags and punctuations."
   ]
  },
  {
   "cell_type": "code",
   "execution_count": 8,
   "id": "3d993cfc",
   "metadata": {
    "papermill": {
     "duration": 0.024353,
     "end_time": "2024-09-12T12:14:57.940064",
     "exception": false,
     "start_time": "2024-09-12T12:14:57.915711",
     "status": "completed"
    },
    "tags": []
   },
   "outputs": [],
   "source": [
    "stop_words = set(stopwords.words('english'))\n",
    "def clean_text(sentence):\n",
    "    # Removing URLS\n",
    "    sentence = re.sub(r\"https?://\\S+|www\\.\\S+\",\" \",sentence)\n",
    "    \n",
    "    # Removing html tags\n",
    "    sentence = re.sub(r\"<.*?>|&([a-z0-9]+|#[0-9]{1,6}|#x[0-9a-f]{1,6});\",\" \",sentence)\n",
    "    \n",
    "    # Removing the Punctuation\n",
    "    sentence = re.sub(r\"[^\\w\\s]\", \" \", sentence)\n",
    "        \n",
    "    # Removing words that have numbers \n",
    "    sentence = re.sub(r\"\\w*\\d\\w*\", \" \", sentence)\n",
    "        \n",
    "    # Removing Digits \n",
    "    sentence = re.sub(r\"[0-9]+\", \" \", sentence)\n",
    "        \n",
    "    # Cleaning white spaces\n",
    "    sentence = re.sub(r\"\\s+\", \" \", sentence).strip()\n",
    "        \n",
    "    sentence = sentence.lower()\n",
    "    # Check stop words\n",
    "    tokens = []\n",
    "    for token in sentence.split():\n",
    "        if token not in stop_words:\n",
    "            tokens.append(token)\n",
    "    return \" \".join(tokens)"
   ]
  },
  {
   "cell_type": "code",
   "execution_count": 9,
   "id": "a0356450",
   "metadata": {
    "papermill": {
     "duration": 28.994782,
     "end_time": "2024-09-12T12:15:26.943582",
     "exception": false,
     "start_time": "2024-09-12T12:14:57.948800",
     "status": "completed"
    },
    "tags": []
   },
   "outputs": [],
   "source": [
    "df.loc[:, 'review'] = df['review'].apply(clean_text)"
   ]
  },
  {
   "cell_type": "code",
   "execution_count": 10,
   "id": "65330af7",
   "metadata": {
    "papermill": {
     "duration": 0.024497,
     "end_time": "2024-09-12T12:15:26.977105",
     "exception": false,
     "start_time": "2024-09-12T12:15:26.952608",
     "status": "completed"
    },
    "tags": []
   },
   "outputs": [
    {
     "data": {
      "text/html": [
       "<div>\n",
       "<style scoped>\n",
       "    .dataframe tbody tr th:only-of-type {\n",
       "        vertical-align: middle;\n",
       "    }\n",
       "\n",
       "    .dataframe tbody tr th {\n",
       "        vertical-align: top;\n",
       "    }\n",
       "\n",
       "    .dataframe thead th {\n",
       "        text-align: right;\n",
       "    }\n",
       "</style>\n",
       "<table border=\"1\" class=\"dataframe\">\n",
       "  <thead>\n",
       "    <tr style=\"text-align: right;\">\n",
       "      <th></th>\n",
       "      <th>review</th>\n",
       "      <th>sentiment</th>\n",
       "    </tr>\n",
       "  </thead>\n",
       "  <tbody>\n",
       "    <tr>\n",
       "      <th>0</th>\n",
       "      <td>one reviewers mentioned watching oz episode ho...</td>\n",
       "      <td>1</td>\n",
       "    </tr>\n",
       "    <tr>\n",
       "      <th>1</th>\n",
       "      <td>wonderful little production filming technique ...</td>\n",
       "      <td>1</td>\n",
       "    </tr>\n",
       "    <tr>\n",
       "      <th>2</th>\n",
       "      <td>thought wonderful way spend time hot summer we...</td>\n",
       "      <td>1</td>\n",
       "    </tr>\n",
       "    <tr>\n",
       "      <th>3</th>\n",
       "      <td>basically family little boy jake thinks zombie...</td>\n",
       "      <td>0</td>\n",
       "    </tr>\n",
       "    <tr>\n",
       "      <th>4</th>\n",
       "      <td>petter mattei love time money visually stunnin...</td>\n",
       "      <td>1</td>\n",
       "    </tr>\n",
       "  </tbody>\n",
       "</table>\n",
       "</div>"
      ],
      "text/plain": [
       "                                              review sentiment\n",
       "0  one reviewers mentioned watching oz episode ho...         1\n",
       "1  wonderful little production filming technique ...         1\n",
       "2  thought wonderful way spend time hot summer we...         1\n",
       "3  basically family little boy jake thinks zombie...         0\n",
       "4  petter mattei love time money visually stunnin...         1"
      ]
     },
     "execution_count": 10,
     "metadata": {},
     "output_type": "execute_result"
    }
   ],
   "source": [
    "df.head()"
   ]
  },
  {
   "cell_type": "code",
   "execution_count": 11,
   "id": "d7714a11",
   "metadata": {
    "papermill": {
     "duration": 0.019572,
     "end_time": "2024-09-12T12:15:27.007496",
     "exception": false,
     "start_time": "2024-09-12T12:15:26.987924",
     "status": "completed"
    },
    "tags": []
   },
   "outputs": [
    {
     "data": {
      "text/plain": [
       "'wonderful little production filming technique unassuming old time bbc fashion gives comforting sometimes discomforting sense realism entire piece actors extremely well chosen michael sheen got polari voices pat truly see seamless editing guided references williams diary entries well worth watching terrificly written performed piece masterful production one great master comedy life realism really comes home little things fantasy guard rather use traditional dream techniques remains solid disappears plays knowledge senses particularly scenes concerning orton halliwell sets particularly flat halliwell murals decorating every surface terribly well done'"
      ]
     },
     "execution_count": 11,
     "metadata": {},
     "output_type": "execute_result"
    }
   ],
   "source": [
    "df['review'][1]"
   ]
  },
  {
   "cell_type": "code",
   "execution_count": 12,
   "id": "debe6f07",
   "metadata": {
    "papermill": {
     "duration": 0.029145,
     "end_time": "2024-09-12T12:15:27.046020",
     "exception": false,
     "start_time": "2024-09-12T12:15:27.016875",
     "status": "completed"
    },
    "tags": []
   },
   "outputs": [
    {
     "name": "stdout",
     "output_type": "stream",
     "text": [
      "Train Data size: 40000 40000\n",
      "Test Data size 10000 10000\n"
     ]
    }
   ],
   "source": [
    "X = df['review']\n",
    "y = df['sentiment']\n",
    "X_train, X_test, y_train, y_test = train_test_split(X, y, test_size=0.2, random_state=7)\n",
    "\n",
    "print(\"Train Data size:\", len(X_train), len(y_train))\n",
    "print(\"Test Data size\", len(X_test), len(y_test))"
   ]
  },
  {
   "cell_type": "code",
   "execution_count": 13,
   "id": "f382e968",
   "metadata": {
    "papermill": {
     "duration": 9.573829,
     "end_time": "2024-09-12T12:15:36.630411",
     "exception": false,
     "start_time": "2024-09-12T12:15:27.056582",
     "status": "completed"
    },
    "tags": []
   },
   "outputs": [],
   "source": [
    "tokenizer = Tokenizer()\n",
    "tokenizer.fit_on_texts(X_train)\n",
    "\n",
    "# Convert text to sequences of integers\n",
    "X_train = tokenizer.texts_to_sequences(X_train)\n",
    "X_test = tokenizer.texts_to_sequences(X_test)"
   ]
  },
  {
   "cell_type": "code",
   "execution_count": 14,
   "id": "bf4b7a18",
   "metadata": {
    "papermill": {
     "duration": 0.749073,
     "end_time": "2024-09-12T12:15:37.388809",
     "exception": false,
     "start_time": "2024-09-12T12:15:36.639736",
     "status": "completed"
    },
    "tags": []
   },
   "outputs": [
    {
     "data": {
      "image/png": "[encoded data removed]",
      "text/plain": [
       "<Figure size 800x600 with 1 Axes>"
      ]
     },
     "metadata": {},
     "output_type": "display_data"
    }
   ],
   "source": [
    "max_words = df['review'].apply(lambda x: len(x.split()))\n",
    "\n",
    "# Plotting the distribution of the maximum number of words in sentences\n",
    "plt.figure(figsize=(8, 6))\n",
    "sns.histplot(max_words, bins=30)\n",
    "plt.title('Distribution of Maximum Words in Sentences')\n",
    "plt.xlabel('Number of Words')\n",
    "plt.ylabel('Frequency')\n",
    "plt.show()"
   ]
  },
  {
   "cell_type": "markdown",
   "id": "dfcaaa02",
   "metadata": {
    "papermill": {
     "duration": 0.009548,
     "end_time": "2024-09-12T12:15:37.408587",
     "exception": false,
     "start_time": "2024-09-12T12:15:37.399039",
     "status": "completed"
    },
    "tags": []
   },
   "source": [
    "#### Hyperparameters "
   ]
  },
  {
   "cell_type": "code",
   "execution_count": 15,
   "id": "8836b610",
   "metadata": {
    "papermill": {
     "duration": 0.017348,
     "end_time": "2024-09-12T12:15:37.435528",
     "exception": false,
     "start_time": "2024-09-12T12:15:37.418180",
     "status": "completed"
    },
    "tags": []
   },
   "outputs": [],
   "source": [
    "max_len = 200  # Maximum words in each sequence.\n",
    "batch_size=512"
   ]
  },
  {
   "cell_type": "markdown",
   "id": "ba5b9d7e",
   "metadata": {
    "papermill": {
     "duration": 0.009459,
     "end_time": "2024-09-12T12:15:37.454552",
     "exception": false,
     "start_time": "2024-09-12T12:15:37.445093",
     "status": "completed"
    },
    "tags": []
   },
   "source": [
    "#### Padding"
   ]
  },
  {
   "cell_type": "code",
   "execution_count": 16,
   "id": "a9e06d32",
   "metadata": {
    "papermill": {
     "duration": 0.587902,
     "end_time": "2024-09-12T12:15:38.052301",
     "exception": false,
     "start_time": "2024-09-12T12:15:37.464399",
     "status": "completed"
    },
    "tags": []
   },
   "outputs": [],
   "source": [
    "X_train = pad_sequences(X_train, maxlen=max_len)\n",
    "X_test = pad_sequences(X_test, maxlen=max_len)"
   ]
  },
  {
   "cell_type": "code",
   "execution_count": 17,
   "id": "84c9c898",
   "metadata": {
    "papermill": {
     "duration": 0.018308,
     "end_time": "2024-09-12T12:15:38.080559",
     "exception": false,
     "start_time": "2024-09-12T12:15:38.062251",
     "status": "completed"
    },
    "tags": []
   },
   "outputs": [
    {
     "data": {
      "text/plain": [
       "91086"
      ]
     },
     "execution_count": 17,
     "metadata": {},
     "output_type": "execute_result"
    }
   ],
   "source": [
    "vocabulary_size = len(tokenizer.word_index)\n",
    "vocabulary_size"
   ]
  },
  {
   "cell_type": "markdown",
   "id": "a6c8b576-bd0c-4f15-b920-e5513b470a4a",
   "metadata": {},
   "source": [
    "# LSTM"
   ]
  },
  {
   "cell_type": "code",
   "execution_count": 23,
   "id": "bfb402f0",
   "metadata": {
    "papermill": {
     "duration": 0.681924,
     "end_time": "2024-09-12T12:15:38.772435",
     "exception": false,
     "start_time": "2024-09-12T12:15:38.090511",
     "status": "completed"
    },
    "tags": []
   },
   "outputs": [],
   "source": [
    "model = Sequential()\n",
    "model.add(Embedding(input_dim=vocabulary_size, output_dim=128))\n",
    "model.add(LSTM(units=128, dropout=0.2, recurrent_dropout=0.2))\n",
    "model.add(Dropout(0.5))\n",
    "model.add(Dense(128, activation='relu'))\n",
    "model.add(Dropout(0.5))\n",
    "model.add(Dense(1, activation='sigmoid'))\n",
    "\n",
    "\n",
    "model.compile(loss='binary_crossentropy', optimizer=Adam(learning_rate=0.0001), metrics=['accuracy'])"
   ]
  },
  {
   "cell_type": "code",
   "execution_count": 24,
   "id": "0c767696",
   "metadata": {
    "papermill": {
     "duration": 0.035653,
     "end_time": "2024-09-12T12:15:38.818379",
     "exception": false,
     "start_time": "2024-09-12T12:15:38.782726",
     "status": "completed"
    },
    "tags": []
   },
   "outputs": [],
   "source": [
    "X_train = X_train.astype('float32')\n",
    "X_test = X_test.astype('float32')\n",
    "\n",
    "y_train = y_train.astype('int32')\n",
    "y_test = y_test.astype('int32')"
   ]
  },
  {
   "cell_type": "code",
   "execution_count": 25,
   "id": "6813f46e",
   "metadata": {
    "papermill": {
     "duration": 142.932402,
     "end_time": "2024-09-12T12:18:01.760393",
     "exception": false,
     "start_time": "2024-09-12T12:15:38.827991",
     "status": "completed"
    },
    "tags": []
   },
   "outputs": [
    {
     "name": "stdout",
     "output_type": "stream",
     "text": [
      "Epoch 1/5\n",
      "79/79 [==============================] - 768s 10s/step - loss: 0.6925 - accuracy: 0.5317 - val_loss: 0.6906 - val_accuracy: 0.6276\n",
      "Epoch 2/5\n",
      "79/79 [==============================] - 798s 10s/step - loss: 0.6259 - accuracy: 0.6979 - val_loss: 0.4770 - val_accuracy: 0.7928\n",
      "Epoch 3/5\n",
      "79/79 [==============================] - 830s 11s/step - loss: 0.3720 - accuracy: 0.8622 - val_loss: 0.3193 - val_accuracy: 0.8797\n",
      "Epoch 4/5\n",
      "79/79 [==============================] - 843s 11s/step - loss: 0.2462 - accuracy: 0.9133 - val_loss: 0.2874 - val_accuracy: 0.8814\n",
      "Epoch 5/5\n",
      "79/79 [==============================] - 856s 11s/step - loss: 0.1862 - accuracy: 0.9355 - val_loss: 0.2775 - val_accuracy: 0.8878\n"
     ]
    }
   ],
   "source": [
    "history=model.fit(X_train, y_train, epochs=5,validation_data=(X_test, y_test),batch_size=batch_size)"
   ]
  },
  {
   "cell_type": "code",
   "execution_count": 26,
   "id": "3c21264c",
   "metadata": {
    "papermill": {
     "duration": 0.069284,
     "end_time": "2024-09-12T12:18:01.871201",
     "exception": false,
     "start_time": "2024-09-12T12:18:01.801917",
     "status": "completed"
    },
    "tags": []
   },
   "outputs": [
    {
     "name": "stdout",
     "output_type": "stream",
     "text": [
      "Model: \"sequential_2\"\n",
      "_________________________________________________________________\n",
      " Layer (type)                Output Shape              Param #   \n",
      "=================================================================\n",
      " embedding_2 (Embedding)     (None, None, 128)         11659008  \n",
      "                                                                 \n",
      " lstm_1 (LSTM)               (None, 128)               131584    \n",
      "                                                                 \n",
      " dropout_4 (Dropout)         (None, 128)               0         \n",
      "                                                                 \n",
      " dense_4 (Dense)             (None, 128)               16512     \n",
      "                                                                 \n",
      " dropout_5 (Dropout)         (None, 128)               0         \n",
      "                                                                 \n",
      " dense_5 (Dense)             (None, 1)                 129       \n",
      "                                                                 \n",
      "=================================================================\n",
      "Total params: 11807233 (45.04 MB)\n",
      "Trainable params: 11807233 (45.04 MB)\n",
      "Non-trainable params: 0 (0.00 Byte)\n",
      "_________________________________________________________________\n"
     ]
    }
   ],
   "source": [
    "model.summary()"
   ]
  },
  {
   "cell_type": "code",
   "execution_count": 27,
   "id": "2c8b7795",
   "metadata": {
    "papermill": {
     "duration": 24.30085,
     "end_time": "2024-09-12T12:18:26.216047",
     "exception": false,
     "start_time": "2024-09-12T12:18:01.915197",
     "status": "completed"
    },
    "tags": []
   },
   "outputs": [
    {
     "name": "stdout",
     "output_type": "stream",
     "text": [
      "313/313 [==============================] - 35s 111ms/step\n"
     ]
    },
    {
     "data": {
      "text/plain": [
       "Text(95.72222222222221, 0.5, 'Truth')"
      ]
     },
     "execution_count": 27,
     "metadata": {},
     "output_type": "execute_result"
    },
    {
     "data": {
      "image/png": "[encoded data removed]",
      "text/plain": [
       "<Figure size 1000x700 with 2 Axes>"
      ]
     },
     "metadata": {},
     "output_type": "display_data"
    }
   ],
   "source": [
    "y_pred = model.predict(X_test)\n",
    "y_pred_rounded = np.round(y_pred)\n",
    "cm = tf.math.confusion_matrix(labels=y_test,predictions=y_pred_rounded)\n",
    "\n",
    "\n",
    "plt.figure(figsize = (10,7))\n",
    "sns.heatmap(cm, annot=True, fmt='d')\n",
    "plt.title('Confusion Matrix')\n",
    "plt.xlabel('Predicted')\n",
    "plt.ylabel('Truth')"
   ]
  },
  {
   "cell_type": "code",
   "execution_count": 28,
   "id": "ba628400",
   "metadata": {
    "papermill": {
     "duration": 0.090047,
     "end_time": "2024-09-12T12:18:26.375552",
     "exception": false,
     "start_time": "2024-09-12T12:18:26.285505",
     "status": "completed"
    },
    "tags": []
   },
   "outputs": [
    {
     "name": "stdout",
     "output_type": "stream",
     "text": [
      "Classification Report: \n",
      "               precision    recall  f1-score   support\n",
      "\n",
      "           0       0.90      0.87      0.89      4985\n",
      "           1       0.88      0.90      0.89      5015\n",
      "\n",
      "    accuracy                           0.89     10000\n",
      "   macro avg       0.89      0.89      0.89     10000\n",
      "weighted avg       0.89      0.89      0.89     10000\n",
      "\n"
     ]
    }
   ],
   "source": [
    "print(\"Classification Report: \\n\", classification_report(y_test, y_pred_rounded))"
   ]
  },
  {
   "cell_type": "markdown",
   "id": "825eebcf-4e4e-451e-bb38-7c95c5853457",
   "metadata": {},
   "source": [
    "# GRU"
   ]
  },
  {
   "cell_type": "code",
   "execution_count": 21,
   "id": "2faf3b5e",
   "metadata": {
    "papermill": {
     "duration": 0.067924,
     "end_time": "2024-09-12T12:18:26.512433",
     "exception": false,
     "start_time": "2024-09-12T12:18:26.444509",
     "status": "completed"
    },
    "tags": []
   },
   "outputs": [],
   "source": [
    "model_gru = Sequential()\n",
    "model_gru.add(Embedding(input_dim=vocabulary_size, output_dim=128))\n",
    "model_gru.add(GRU(units=128, dropout=0.2, recurrent_dropout=0.2))\n",
    "model_gru.add(Dropout(0.5))\n",
    "model_gru.add(Dense(128, activation='relu'))\n",
    "model_gru.add(Dropout(0.5))\n",
    "model_gru.add(Dense(1, activation='sigmoid'))\n",
    "\n",
    "model_gru.compile(loss='binary_crossentropy', optimizer=Adam(learning_rate=0.0001), metrics=['accuracy'])\n"
   ]
  },
  {
   "cell_type": "code",
   "execution_count": 22,
   "id": "cbac9d4e-c8a0-41ab-a502-9b1e200457c9",
   "metadata": {},
   "outputs": [
    {
     "name": "stdout",
     "output_type": "stream",
     "text": [
      "Epoch 1/5\n",
      "79/79 [==============================] - 552s 7s/step - loss: 0.6922 - accuracy: 0.5246 - val_loss: 0.6906 - val_accuracy: 0.5897\n",
      "Epoch 2/5\n",
      "79/79 [==============================] - 678s 9s/step - loss: 0.6865 - accuracy: 0.5935 - val_loss: 0.6746 - val_accuracy: 0.6661\n",
      "Epoch 3/5\n",
      "79/79 [==============================] - 728s 9s/step - loss: 0.5367 - accuracy: 0.7682 - val_loss: 0.3481 - val_accuracy: 0.8535\n",
      "Epoch 4/5\n",
      "79/79 [==============================] - 729s 9s/step - loss: 0.2763 - accuracy: 0.8912 - val_loss: 0.2787 - val_accuracy: 0.8853\n",
      "Epoch 5/5\n",
      "79/79 [==============================] - 731s 9s/step - loss: 0.1996 - accuracy: 0.9273 - val_loss: 0.2683 - val_accuracy: 0.8927\n",
      "Model: \"sequential\"\n",
      "_________________________________________________________________\n",
      " Layer (type)                Output Shape              Param #   \n",
      "=================================================================\n",
      " embedding (Embedding)       (None, None, 128)         11659008  \n",
      "                                                                 \n",
      " lstm (LSTM)                 (None, 128)               131584    \n",
      "                                                                 \n",
      " dropout (Dropout)           (None, 128)               0         \n",
      "                                                                 \n",
      " dense (Dense)               (None, 128)               16512     \n",
      "                                                                 \n",
      " dropout_1 (Dropout)         (None, 128)               0         \n",
      "                                                                 \n",
      " dense_1 (Dense)             (None, 1)                 129       \n",
      "                                                                 \n",
      "=================================================================\n",
      "Total params: 11807233 (45.04 MB)\n",
      "Trainable params: 11807233 (45.04 MB)\n",
      "Non-trainable params: 0 (0.00 Byte)\n",
      "_________________________________________________________________\n",
      "313/313 [==============================] - 33s 105ms/step\n",
      "Classification Report: \n",
      "               precision    recall  f1-score   support\n",
      "\n",
      "           0       0.90      0.88      0.89      4985\n",
      "           1       0.88      0.91      0.89      5015\n",
      "\n",
      "    accuracy                           0.89     10000\n",
      "   macro avg       0.89      0.89      0.89     10000\n",
      "weighted avg       0.89      0.89      0.89     10000\n",
      "\n"
     ]
    },
    {
     "data": {
      "image/png": "[encoded data removed]",
      "text/plain": [
       "<Figure size 1000x700 with 2 Axes>"
      ]
     },
     "metadata": {},
     "output_type": "display_data"
    }
   ],
   "source": [
    "history=model_gru.fit(X_train, y_train, epochs=5,validation_data=(X_test, y_test),batch_size=batch_size)\n",
    "\n",
    "model.summary()\n",
    "\n",
    "y_pred = model_gru.predict(X_test)\n",
    "y_pred_rounded = np.round(y_pred)\n",
    "cm = tf.math.confusion_matrix(labels=y_test,predictions=y_pred_rounded)\n",
    "plt.figure(figsize = (10,7))\n",
    "sns.heatmap(cm, annot=True, fmt='d')\n",
    "plt.title('Confusion Matrix')\n",
    "plt.xlabel('Predicted')\n",
    "plt.ylabel('Truth')\n",
    "\n",
    "print(\"Classification Report: \\n\", classification_report(y_test, y_pred_rounded))"
   ]
  },
  {
   "cell_type": "markdown",
   "id": "beb02582-b31b-476b-b72b-98c2033addd6",
   "metadata": {},
   "source": [
    "# birnn"
   ]
  },
  {
   "cell_type": "code",
   "execution_count": 29,
   "id": "c2dc9c97",
   "metadata": {
    "papermill": {
     "duration": 0.067879,
     "end_time": "2024-09-12T12:18:26.647674",
     "exception": false,
     "start_time": "2024-09-12T12:18:26.579795",
     "status": "completed"
    },
    "tags": []
   },
   "outputs": [],
   "source": [
    "model_birnn = Sequential()\n",
    "model_birnn.add(Embedding(input_dim=vocabulary_size, output_dim=128))\n",
    "model_birnn.add(Bidirectional(SimpleRNN(units=128, dropout=0.2, recurrent_dropout=0.2)))\n",
    "model_birnn.add(Dropout(0.5))\n",
    "model_birnn.add(Dense(128, activation='relu'))\n",
    "model_birnn.add(Dropout(0.5))\n",
    "model_birnn.add(Dense(1, activation='sigmoid'))\n",
    "\n",
    "model_birnn.compile(loss='binary_crossentropy', optimizer=Adam(learning_rate=0.0001), metrics=['accuracy'])\n"
   ]
  },
  {
   "cell_type": "code",
   "execution_count": 30,
   "id": "8d3105a7-1970-40e2-a0eb-fd8221df9722",
   "metadata": {},
   "outputs": [
    {
     "name": "stdout",
     "output_type": "stream",
     "text": [
      "Epoch 1/5\n",
      "79/79 [==============================] - 313s 4s/step - loss: 0.7465 - accuracy: 0.5020 - val_loss: 0.6951 - val_accuracy: 0.5012\n",
      "Epoch 2/5\n",
      "79/79 [==============================] - 304s 4s/step - loss: 0.7363 - accuracy: 0.4997 - val_loss: 0.6940 - val_accuracy: 0.4982\n",
      "Epoch 3/5\n",
      "79/79 [==============================] - 307s 4s/step - loss: 0.7328 - accuracy: 0.4967 - val_loss: 0.6939 - val_accuracy: 0.4965\n",
      "Epoch 4/5\n",
      "79/79 [==============================] - 304s 4s/step - loss: 0.7249 - accuracy: 0.5010 - val_loss: 0.6936 - val_accuracy: 0.4980\n",
      "Epoch 5/5\n",
      "79/79 [==============================] - 302s 4s/step - loss: 0.7247 - accuracy: 0.5010 - val_loss: 0.6934 - val_accuracy: 0.5002\n",
      "Model: \"sequential_3\"\n",
      "_________________________________________________________________\n",
      " Layer (type)                Output Shape              Param #   \n",
      "=================================================================\n",
      " embedding_3 (Embedding)     (None, None, 128)         11659008  \n",
      "                                                                 \n",
      " bidirectional (Bidirection  (None, 256)               65792     \n",
      " al)                                                             \n",
      "                                                                 \n",
      " dropout_6 (Dropout)         (None, 256)               0         \n",
      "                                                                 \n",
      " dense_6 (Dense)             (None, 128)               32896     \n",
      "                                                                 \n",
      " dropout_7 (Dropout)         (None, 128)               0         \n",
      "                                                                 \n",
      " dense_7 (Dense)             (None, 1)                 129       \n",
      "                                                                 \n",
      "=================================================================\n",
      "Total params: 11757825 (44.85 MB)\n",
      "Trainable params: 11757825 (44.85 MB)\n",
      "Non-trainable params: 0 (0.00 Byte)\n",
      "_________________________________________________________________\n",
      "313/313 [==============================] - 6s 19ms/step\n",
      "Classification Report: \n",
      "               precision    recall  f1-score   support\n",
      "\n",
      "           0       0.50      0.73      0.59      4985\n",
      "           1       0.50      0.27      0.35      5015\n",
      "\n",
      "    accuracy                           0.50     10000\n",
      "   macro avg       0.50      0.50      0.47     10000\n",
      "weighted avg       0.50      0.50      0.47     10000\n",
      "\n"
     ]
    },
    {
     "data": {
      "image/png": "[encoded data removed]",
      "text/plain": [
       "<Figure size 1000x700 with 2 Axes>"
      ]
     },
     "metadata": {},
     "output_type": "display_data"
    }
   ],
   "source": [
    "history=model_birnn.fit(X_train, y_train, epochs=5,validation_data=(X_test, y_test),batch_size=batch_size)\n",
    "\n",
    "model_birnn.summary()\n",
    "\n",
    "y_pred = model_birnn.predict(X_test)\n",
    "y_pred_rounded = np.round(y_pred)\n",
    "cm = tf.math.confusion_matrix(labels=y_test,predictions=y_pred_rounded)\n",
    "plt.figure(figsize = (10,7))\n",
    "sns.heatmap(cm, annot=True, fmt='d')\n",
    "plt.title('Confusion Matrix')\n",
    "plt.xlabel('Predicted')\n",
    "plt.ylabel('Truth')\n",
    "\n",
    "print(\"Classification Report: \\n\", classification_report(y_test, y_pred_rounded))"
   ]
  },
  {
   "cell_type": "markdown",
   "id": "db085a9d-687e-4644-b9f0-e45ed7cdf8a8",
   "metadata": {},
   "source": [
    "# rnn"
   ]
  },
  {
   "cell_type": "code",
   "execution_count": 31,
   "id": "131da053-270a-4ae8-81d6-ea62006b661e",
   "metadata": {},
   "outputs": [],
   "source": [
    "model_rnn = Sequential()\n",
    "model_rnn.add(Embedding(input_dim=vocabulary_size, output_dim=128))\n",
    "model_rnn.add(SimpleRNN(units=128, dropout=0.2, recurrent_dropout=0.2))\n",
    "model_rnn.add(Dropout(0.5))\n",
    "model_rnn.add(Dense(128, activation='relu'))\n",
    "model_rnn.add(Dropout(0.5))\n",
    "model_rnn.add(Dense(1, activation='sigmoid'))\n",
    "\n",
    "model_rnn.compile(loss='binary_crossentropy', optimizer=Adam(learning_rate=0.0001), metrics=['accuracy'])\n"
   ]
  },
  {
   "cell_type": "code",
   "execution_count": 32,
   "id": "609ff4a3-5212-47e7-9b7d-5277dc50c686",
   "metadata": {},
   "outputs": [
    {
     "name": "stdout",
     "output_type": "stream",
     "text": [
      "Epoch 1/5\n",
      "79/79 [==============================] - 139s 2s/step - loss: 0.7368 - accuracy: 0.4985 - val_loss: 0.6933 - val_accuracy: 0.5081\n",
      "Epoch 2/5\n",
      "79/79 [==============================] - 137s 2s/step - loss: 0.7295 - accuracy: 0.4969 - val_loss: 0.6928 - val_accuracy: 0.5131\n",
      "Epoch 3/5\n",
      "79/79 [==============================] - 140s 2s/step - loss: 0.7238 - accuracy: 0.5007 - val_loss: 0.6926 - val_accuracy: 0.5127\n",
      "Epoch 4/5\n",
      "79/79 [==============================] - 140s 2s/step - loss: 0.7214 - accuracy: 0.5004 - val_loss: 0.6926 - val_accuracy: 0.5146\n",
      "Epoch 5/5\n",
      "79/79 [==============================] - 138s 2s/step - loss: 0.7174 - accuracy: 0.5037 - val_loss: 0.6924 - val_accuracy: 0.5134\n",
      "Model: \"sequential_4\"\n",
      "_________________________________________________________________\n",
      " Layer (type)                Output Shape              Param #   \n",
      "=================================================================\n",
      " embedding_4 (Embedding)     (None, None, 128)         11659008  \n",
      "                                                                 \n",
      " simple_rnn_1 (SimpleRNN)    (None, 128)               32896     \n",
      "                                                                 \n",
      " dropout_8 (Dropout)         (None, 128)               0         \n",
      "                                                                 \n",
      " dense_8 (Dense)             (None, 128)               16512     \n",
      "                                                                 \n",
      " dropout_9 (Dropout)         (None, 128)               0         \n",
      "                                                                 \n",
      " dense_9 (Dense)             (None, 1)                 129       \n",
      "                                                                 \n",
      "=================================================================\n",
      "Total params: 11708545 (44.66 MB)\n",
      "Trainable params: 11708545 (44.66 MB)\n",
      "Non-trainable params: 0 (0.00 Byte)\n",
      "_________________________________________________________________\n",
      "313/313 [==============================] - 5s 16ms/step\n",
      "Classification Report: \n",
      "               precision    recall  f1-score   support\n",
      "\n",
      "           0       0.53      0.19      0.29      4985\n",
      "           1       0.51      0.83      0.63      5015\n",
      "\n",
      "    accuracy                           0.51     10000\n",
      "   macro avg       0.52      0.51      0.46     10000\n",
      "weighted avg       0.52      0.51      0.46     10000\n",
      "\n"
     ]
    },
    {
     "data": {
      "image/png": "[encoded data removed]",
      "text/plain": [
       "<Figure size 1000x700 with 2 Axes>"
      ]
     },
     "metadata": {},
     "output_type": "display_data"
    }
   ],
   "source": [
    "history=model_rnn.fit(X_train, y_train, epochs=5,validation_data=(X_test, y_test),batch_size=batch_size)\n",
    "\n",
    "model_rnn.summary()\n",
    "\n",
    "y_pred = model_rnn.predict(X_test)\n",
    "y_pred_rounded = np.round(y_pred)\n",
    "cm = tf.math.confusion_matrix(labels=y_test,predictions=y_pred_rounded)\n",
    "plt.figure(figsize = (10,7))\n",
    "sns.heatmap(cm, annot=True, fmt='d')\n",
    "plt.title('Confusion Matrix')\n",
    "plt.xlabel('Predicted')\n",
    "plt.ylabel('Truth')\n",
    "\n",
    "print(\"Classification Report: \\n\", classification_report(y_test, y_pred_rounded))"
   ]
  },
  {
   "cell_type": "markdown",
   "id": "b72e837c-a304-4fb0-8274-084c0674ab27",
   "metadata": {},
   "source": [
    "# CNN + LSTM Model"
   ]
  },
  {
   "cell_type": "code",
   "execution_count": 34,
   "id": "a0894e44-0287-43f9-ad7d-91db55be2368",
   "metadata": {},
   "outputs": [],
   "source": [
    "model_cnn_lstm = Sequential()\n",
    "model_cnn_lstm.add(Embedding(input_dim=vocabulary_size, output_dim=128))\n",
    "model_cnn_lstm.add(Conv1D(filters=64, kernel_size=5, activation='relu'))\n",
    "model_cnn_lstm.add(MaxPooling1D(pool_size=2))\n",
    "model_cnn_lstm.add(LSTM(units=128, dropout=0.2, recurrent_dropout=0.2))\n",
    "model_cnn_lstm.add(Dropout(0.5))\n",
    "model_cnn_lstm.add(Dense(1, activation='sigmoid'))\n",
    "\n",
    "model_cnn_lstm.compile(loss='binary_crossentropy', optimizer=Adam(learning_rate=0.0001), metrics=['accuracy'])\n"
   ]
  },
  {
   "cell_type": "code",
   "execution_count": 35,
   "id": "f9360c40-47aa-4499-99dd-6b14c308d197",
   "metadata": {},
   "outputs": [
    {
     "name": "stdout",
     "output_type": "stream",
     "text": [
      "Epoch 1/5\n",
      "79/79 [==============================] - 185s 2s/step - loss: 0.6915 - accuracy: 0.5518 - val_loss: 0.6865 - val_accuracy: 0.7002\n",
      "Epoch 2/5\n",
      "79/79 [==============================] - 168s 2s/step - loss: 0.5502 - accuracy: 0.7614 - val_loss: 0.3936 - val_accuracy: 0.8438\n",
      "Epoch 3/5\n",
      "79/79 [==============================] - 165s 2s/step - loss: 0.2990 - accuracy: 0.8902 - val_loss: 0.3116 - val_accuracy: 0.8780\n",
      "Epoch 4/5\n",
      "79/79 [==============================] - 174s 2s/step - loss: 0.2082 - accuracy: 0.9273 - val_loss: 0.2901 - val_accuracy: 0.8825\n",
      "Epoch 5/5\n",
      "79/79 [==============================] - 174s 2s/step - loss: 0.1570 - accuracy: 0.9493 - val_loss: 0.3119 - val_accuracy: 0.8822\n",
      "Model: \"sequential_6\"\n",
      "_________________________________________________________________\n",
      " Layer (type)                Output Shape              Param #   \n",
      "=================================================================\n",
      " embedding_6 (Embedding)     (None, None, 128)         11659008  \n",
      "                                                                 \n",
      " conv1d_1 (Conv1D)           (None, None, 64)          41024     \n",
      "                                                                 \n",
      " max_pooling1d_1 (MaxPoolin  (None, None, 64)          0         \n",
      " g1D)                                                            \n",
      "                                                                 \n",
      " lstm_2 (LSTM)               (None, 128)               98816     \n",
      "                                                                 \n",
      " dropout_10 (Dropout)        (None, 128)               0         \n",
      "                                                                 \n",
      " dense_11 (Dense)            (None, 1)                 129       \n",
      "                                                                 \n",
      "=================================================================\n",
      "Total params: 11798977 (45.01 MB)\n",
      "Trainable params: 11798977 (45.01 MB)\n",
      "Non-trainable params: 0 (0.00 Byte)\n",
      "_________________________________________________________________\n",
      "313/313 [==============================] - 11s 33ms/step\n",
      "Classification Report: \n",
      "               precision    recall  f1-score   support\n",
      "\n",
      "           0       0.88      0.88      0.88      4985\n",
      "           1       0.88      0.88      0.88      5015\n",
      "\n",
      "    accuracy                           0.88     10000\n",
      "   macro avg       0.88      0.88      0.88     10000\n",
      "weighted avg       0.88      0.88      0.88     10000\n",
      "\n"
     ]
    },
    {
     "data": {
      "image/png": "[encoded data removed]",
      "text/plain": [
       "<Figure size 1000x700 with 2 Axes>"
      ]
     },
     "metadata": {},
     "output_type": "display_data"
    }
   ],
   "source": [
    "history=model_cnn_lstm.fit(X_train, y_train, epochs=5,validation_data=(X_test, y_test),batch_size=batch_size)\n",
    "\n",
    "model_cnn_lstm.summary()\n",
    "\n",
    "y_pred = model_cnn_lstm.predict(X_test)\n",
    "y_pred_rounded = np.round(y_pred)\n",
    "cm = tf.math.confusion_matrix(labels=y_test,predictions=y_pred_rounded)\n",
    "plt.figure(figsize = (10,7))\n",
    "sns.heatmap(cm, annot=True, fmt='d')\n",
    "plt.title('Confusion Matrix')\n",
    "plt.xlabel('Predicted')\n",
    "plt.ylabel('Truth')\n",
    "\n",
    "print(\"Classification Report: \\n\", classification_report(y_test, y_pred_rounded))"
   ]
  },
  {
   "cell_type": "markdown",
   "id": "c40a4f2e-e778-425d-83fe-719e601c3144",
   "metadata": {},
   "source": [
    "# fine tuning with bert"
   ]
  },
  {
   "cell_type": "code",
   "execution_count": null,
   "id": "5119f832-f10b-41c8-92b6-59fca9cc1731",
   "metadata": {},
   "outputs": [
    {
     "name": "stderr",
     "output_type": "stream",
     "text": [
      "C:\\Users\\Lenovo\\anaconda3\\envs\\FaceRecognition\\lib\\site-packages\\tqdm\\auto.py:21: TqdmWarning: IProgress not found. Please update jupyter and ipywidgets. See https://ipywidgets.readthedocs.io/en/stable/user_install.html\n",
      "  from .autonotebook import tqdm as notebook_tqdm\n"
     ]
    },
    {
     "name": "stdout",
     "output_type": "stream",
     "text": [
      "Train Data size: 40000 40000\n",
      "Test Data size 10000 10000\n"
     ]
    },
    {
     "name": "stderr",
     "output_type": "stream",
     "text": [
      "C:\\Users\\Lenovo\\anaconda3\\envs\\FaceRecognition\\lib\\site-packages\\transformers\\tokenization_utils_base.py:1617: FutureWarning: `clean_up_tokenization_spaces` was not set. It will be set to `True` by default. This behavior will be deprecated in transformers v4.45, and will be then set to `False` by default. For more details check this issue: https://github.com/huggingface/transformers/issues/31884\n",
      "  warnings.warn(\n",
      "All PyTorch model weights were used when initializing TFBertForSequenceClassification.\n",
      "\n",
      "Some weights or buffers of the TF 2.0 model TFBertForSequenceClassification were not initialized from the PyTorch model and are newly initialized: ['classifier.weight', 'classifier.bias']\n",
      "You should probably TRAIN this model on a down-stream task to be able to use it for predictions and inference.\n"
     ]
    },
    {
     "name": "stdout",
     "output_type": "stream",
     "text": [
      "Epoch 1/3\n",
      "  15/5000 [..............................] - ETA: 36:27:36 - loss: 0.6987 - accuracy: 0.5667"
     ]
    }
   ],
   "source": [
    "import pandas as pd\n",
    "from sklearn.model_selection import train_test_split\n",
    "from transformers import AutoTokenizer, TFAutoModelForSequenceClassification\n",
    "from transformers import DataCollatorWithPadding\n",
    "import tensorflow as tf\n",
    "import matplotlib.pyplot as plt\n",
    "import seaborn as sns\n",
    "from sklearn.metrics import classification_report\n",
    "\n",
    "# Split the data into training and test sets\n",
    "X = df['review']\n",
    "y = df['sentiment']\n",
    "X_train, X_test, y_train, y_test = train_test_split(X, y, test_size=0.2, random_state=7)\n",
    "\n",
    "print(\"Train Data size:\", len(X_train), len(y_train))\n",
    "print(\"Test Data size\", len(X_test), len(y_test))\n",
    "\n",
    "# Ensure that labels are in the correct format (e.g., integers)\n",
    "y_train = y_train.astype(int)\n",
    "y_test = y_test.astype(int)\n",
    "\n",
    "# Initialize the tokenizer\n",
    "tokenizer = AutoTokenizer.from_pretrained('bert-base-uncased')\n",
    "\n",
    "# Tokenization function\n",
    "def tokenize(batch):\n",
    "    return tokenizer(batch['review'], padding=True, truncation=True, max_length=512)\n",
    "\n",
    "# Prepare the dataset in a format that TensorFlow can use\n",
    "train_data = pd.DataFrame({'review': X_train, 'sentiment': y_train})\n",
    "test_data = pd.DataFrame({'review': X_test, 'sentiment': y_test})\n",
    "\n",
    "# Tokenize the datasets\n",
    "train_encodings = tokenizer(list(train_data['review']), truncation=True, padding=True, max_length=512)\n",
    "test_encodings = tokenizer(list(test_data['review']), truncation=True, padding=True, max_length=512)\n",
    "\n",
    "# Convert to TensorFlow dataset\n",
    "train_dataset = tf.data.Dataset.from_tensor_slices((\n",
    "    dict(train_encodings),\n",
    "    train_data['sentiment'].values  # Ensure the labels are numpy arrays of integers\n",
    "))\n",
    "\n",
    "test_dataset = tf.data.Dataset.from_tensor_slices((\n",
    "    dict(test_encodings),\n",
    "    test_data['sentiment'].values  # Ensure the labels are numpy arrays of integers\n",
    "))\n",
    "\n",
    "# Batch the datasets\n",
    "batch_size = 8\n",
    "train_dataset = train_dataset.batch(batch_size)\n",
    "test_dataset = test_dataset.batch(batch_size)\n",
    "\n",
    "# Load the pre-trained BERT model with a classification head\n",
    "model = TFAutoModelForSequenceClassification.from_pretrained('bert-base-uncased', num_labels=2)  # Binary classification (positive/negative)\n",
    "\n",
    "# Compile the model\n",
    "model.compile(optimizer=tf.keras.optimizers.Adam(learning_rate=2e-5),\n",
    "              loss=tf.keras.losses.SparseCategoricalCrossentropy(from_logits=True),\n",
    "              metrics=['accuracy'])\n",
    "\n",
    "# Train the model\n",
    "model.fit(train_dataset, validation_data=test_dataset, epochs=3)\n",
    "\n",
    "# Evaluate the model on the test dataset\n",
    "test_results = model.evaluate(test_dataset)\n",
    "print(f'Test Loss: {test_results[0]}, Test Accuracy: {test_results[1]}')\n",
    "\n",
    "# Make predictions on the test dataset\n",
    "y_pred_logits = model.predict(test_dataset).logits\n",
    "y_pred_rounded = tf.argmax(y_pred_logits, axis=1).numpy()  # Get the predicted class labels\n",
    "\n",
    "# Generate the confusion matrix\n",
    "cm = tf.math.confusion_matrix(labels=y_test, predictions=y_pred_rounded)\n",
    "\n",
    "# Plot confusion matrix\n",
    "plt.figure(figsize=(10,7))\n",
    "sns.heatmap(cm, annot=True, fmt='d', cmap='Blues')\n",
    "plt.title('Confusion Matrix')\n",
    "plt.xlabel('Predicted')\n",
    "plt.ylabel('Truth')\n",
    "plt.show()\n",
    "\n",
    "# Print classification report\n",
    "print(\"Classification Report: \\n\", classification_report(y_test, y_pred_rounded))\n"
   ]
  },
  {
   "cell_type": "code",
   "execution_count": null,
   "id": "aad63900-27fd-4005-9d3d-9f767e9a2e04",
   "metadata": {},
   "outputs": [],
   "source": []
  },
  {
   "cell_type": "code",
   "execution_count": null,
   "id": "f7728bec-77dd-4d9b-ba24-21ad77ef0e80",
   "metadata": {},
   "outputs": [],
   "source": []
  },
  {
   "cell_type": "code",
   "execution_count": null,
   "id": "8011b4ef-cfd6-482c-b94b-2fb0e9a1c2a6",
   "metadata": {},
   "outputs": [],
   "source": []
  },
  {
   "cell_type": "code",
   "execution_count": null,
   "id": "9b0e0cb7-7903-4a19-99f7-34d8bb5197d6",
   "metadata": {},
   "outputs": [],
   "source": []
  },
  {
   "cell_type": "code",
   "execution_count": null,
   "id": "0fca7fed-9848-4402-ad5f-b2bd3b56b745",
   "metadata": {},
   "outputs": [],
   "source": []
  },
  {
   "cell_type": "code",
   "execution_count": null,
   "id": "7e752f9e-5455-41a7-a610-2248f9a4aa69",
   "metadata": {},
   "outputs": [],
   "source": []
  },
  {
   "cell_type": "code",
   "execution_count": null,
   "id": "8520111c-536f-48af-a336-16df9eaf73bb",
   "metadata": {},
   "outputs": [],
   "source": []
  },
  {
   "cell_type": "code",
   "execution_count": null,
   "id": "15461e96-e1ef-4698-95f9-9b91d6c49f72",
   "metadata": {},
   "outputs": [],
   "source": []
  },
  {
   "cell_type": "code",
   "execution_count": null,
   "id": "16c2b8cc-9172-4571-a74f-152ba088cc77",
   "metadata": {},
   "outputs": [],
   "source": []
  },
  {
   "cell_type": "code",
   "execution_count": null,
   "id": "126308f2-58f8-495f-ace8-89a331d9f567",
   "metadata": {},
   "outputs": [],
   "source": []
  },
  {
   "cell_type": "code",
   "execution_count": null,
   "id": "f4358ddb-54b0-48eb-ae62-6ed0636883de",
   "metadata": {},
   "outputs": [],
   "source": []
  },
  {
   "cell_type": "code",
   "execution_count": null,
   "id": "3b3ad45f-cc69-4e06-9eee-c64bf4b1bd96",
   "metadata": {},
   "outputs": [],
   "source": []
  },
  {
   "cell_type": "code",
   "execution_count": null,
   "id": "03a4fa23-6daa-4199-90c9-d59dedba6129",
   "metadata": {},
   "outputs": [],
   "source": []
  },
  {
   "cell_type": "code",
   "execution_count": null,
   "id": "20f379a5-2e74-410b-ad61-0c5aa1bacb59",
   "metadata": {},
   "outputs": [],
   "source": []
  },
  {
   "cell_type": "code",
   "execution_count": null,
   "id": "4c7dc87f-8044-4cc6-8a6c-3487e624fb5f",
   "metadata": {},
   "outputs": [],
   "source": []
  },
  {
   "cell_type": "code",
   "execution_count": null,
   "id": "3ffce2be-fdd2-4d77-af1e-a2488a5a6f32",
   "metadata": {},
   "outputs": [],
   "source": []
  },
  {
   "cell_type": "code",
   "execution_count": null,
   "id": "a4885ab4-c08e-4a5c-8dd4-253d7410f8c4",
   "metadata": {},
   "outputs": [],
   "source": []
  },
  {
   "cell_type": "code",
   "execution_count": null,
   "id": "47094f9a-f190-425e-9615-e6aa79a8e793",
   "metadata": {},
   "outputs": [],
   "source": []
  },
  {
   "cell_type": "code",
   "execution_count": null,
   "id": "8411ec58-4295-4c6c-9089-d51554e96aff",
   "metadata": {},
   "outputs": [],
   "source": []
  },
  {
   "cell_type": "code",
   "execution_count": null,
   "id": "e99d62ee-72aa-4592-ba2e-c4a3634cbef5",
   "metadata": {},
   "outputs": [],
   "source": []
  },
  {
   "cell_type": "code",
   "execution_count": null,
   "id": "2f1eeaff-efab-4026-9a58-c154d1878bfc",
   "metadata": {},
   "outputs": [],
   "source": []
  },
  {
   "cell_type": "code",
   "execution_count": null,
   "id": "9e15ed8c-9c57-4247-a71c-5c54bae32d1a",
   "metadata": {},
   "outputs": [],
   "source": []
  },
  {
   "cell_type": "code",
   "execution_count": null,
   "id": "0c9fd567-b58a-4879-b643-9e6209a97bba",
   "metadata": {},
   "outputs": [],
   "source": []
  },
  {
   "cell_type": "code",
   "execution_count": null,
   "id": "6ab194c4-3f8d-497f-9ae1-bb838deee9fd",
   "metadata": {},
   "outputs": [],
   "source": []
  },
  {
   "cell_type": "code",
   "execution_count": null,
   "id": "db4cc9cc-ad2a-4c00-b982-ada9a8237462",
   "metadata": {},
   "outputs": [],
   "source": []
  }
 ],
 "metadata": {
  "kaggle": {
   "accelerator": "gpu",
   "dataSources": [
    {
     "datasetId": 134715,
     "sourceId": 320111,
     "sourceType": "datasetVersion"
    }
   ],
   "dockerImageVersionId": 30762,
   "isGpuEnabled": true,
   "isInternetEnabled": true,
   "language": "python",
   "sourceType": "notebook"
  },
  "kernelspec": {
   "display_name": "Python 3 (ipykernel)",
   "language": "python",
   "name": "python3"
  },
  "language_info": {
   "codemirror_mode": {
    "name": "ipython",
    "version": 3
   },
   "file_extension": ".py",
   "mimetype": "text/x-python",
   "name": "python",
   "nbconvert_exporter": "python",
   "pygments_lexer": "ipython3",
   "version": "3.8.19"
  },
  "papermill": {
   "default_parameters": {},
   "duration": 231.852862,
   "end_time": "2024-09-12T12:18:29.273685",
   "environment_variables": {},
   "exception": null,
   "input_path": "__notebook__.ipynb",
   "output_path": "__notebook__.ipynb",
   "parameters": {},
   "start_time": "2024-09-12T12:14:37.420823",
   "version": "2.6.0"
  }
 },
 "nbformat": 4,
 "nbformat_minor": 5
}
